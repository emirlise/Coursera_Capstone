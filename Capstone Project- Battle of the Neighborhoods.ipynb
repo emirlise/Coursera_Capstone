{
    "cells": [
        {
            "metadata": {
                "collapsed": true
            },
            "cell_type": "markdown",
            "source": "# Battle of the Neighbours"
        },
        {
            "metadata": {},
            "cell_type": "markdown",
            "source": "## Problem Overview\n"
        },
        {
            "metadata": {},
            "cell_type": "markdown",
            "source": "Turkey has several cities that are globally known for their tourist attractions and experience that are on the coastline. With that said, I would like to explore the relationship between the proximity to the sea & touristic attractions and the food business. To do so, I will be exploring Istanbul, Izmir and Antalya as touristic coastal cities. I will check whether the coastal neighbourhoods have the most food selection in every three city. Exploration of this relationship would benefit city planning for a better tourism and could also affect the invesment decision made in the restaurant market of these cities."
        },
        {
            "metadata": {},
            "cell_type": "markdown",
            "source": "## Background of the Problem"
        },
        {
            "metadata": {},
            "cell_type": "markdown",
            "source": "Istanbul recently became the sixth mostly visited city among the world with 8.6 billion dollar expected tourism revenue. Other two cities already have a tourism centered economy model. With that said, opening a restaurant seems like a good invesment. However, where to do that in an established market competetion is another question mark. Does the coastal areas have most food options? Or how is the business in the neighbourhoods where the tourist attractions are closest? "
        },
        {
            "metadata": {},
            "cell_type": "markdown",
            "source": "## Data"
        },
        {
            "metadata": {},
            "cell_type": "markdown",
            "source": "For this assignment, I will be utilizing the Foursquare API to pull the following location data on restaurants in Istanbul, Izmir and Antalya, Turkey.\n\n- Venue Name \n- Venue \n- Venue Location\n- Venue Category\n- Count of Likes"
        },
        {
            "metadata": {},
            "cell_type": "markdown",
            "source": "I will also use Google maps and Ministry of Tourism to get the location of the tourist attractions and more information. The data will be used to map out the cities to show which areas have the most food options with folium and k-clustering method. "
        },
        {
            "metadata": {},
            "cell_type": "code",
            "source": "",
            "execution_count": null,
            "outputs": []
        }
    ],
    "metadata": {
        "kernelspec": {
            "name": "python3",
            "display_name": "Python 3.6",
            "language": "python"
        },
        "language_info": {
            "name": "python",
            "version": "3.6.9",
            "mimetype": "text/x-python",
            "codemirror_mode": {
                "name": "ipython",
                "version": 3
            },
            "pygments_lexer": "ipython3",
            "nbconvert_exporter": "python",
            "file_extension": ".py"
        }
    },
    "nbformat": 4,
    "nbformat_minor": 1
}